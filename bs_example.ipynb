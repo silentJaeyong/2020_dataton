{
 "cells": [
  {
   "cell_type": "code",
   "execution_count": null,
   "metadata": {},
   "outputs": [],
   "source": [
    "import requests\n",
    "from bs4 import BeautifulSoup\n",
    "from openpyxl import Workbook"
   ]
  },
  {
   "cell_type": "code",
   "execution_count": null,
   "metadata": {},
   "outputs": [],
   "source": [
    "thesis_dataset=Workbook()\n",
    "thesis_s = thesis_dataset.active\n",
    "thesis_s.append(['index', 'sub_seq', 'conference', 'year', 'title', 'author', 'abs'])"
   ]
  },
  {
   "cell_type": "code",
   "execution_count": null,
   "metadata": {},
   "outputs": [],
   "source": [
    "def add_aut(url):\n",
    "    response = requests.get(url)\n",
    "    soup = BeautifulSoup(response.content, \"html.parser\")\n",
    "\n",
    "    aut = []\n",
    "    temp = []\n",
    "\n",
    "    div_1 = soup.select('#main > div')\n",
    "    p = ''\n",
    "    leng = len(div_1)\n",
    "    leng2 = 0\n",
    "\n",
    "    for i in range(leng):\n",
    "        if (i == 0):\n",
    "            continue\n",
    "        p = div_1[i].select(\".d-block\")\n",
    "        leng2 = len(p)\n",
    "        for j in range(leng2):\n",
    "            if (j == 0 or j == 1 or j == 2):\n",
    "                continue\n",
    "            for k in p[j].select(\".d-block > a\"):\n",
    "                tmp = k.get_text()\n",
    "                if (tmp == 'pdf\\n' or tmp == 'bib\\n' or tmp == 'abs' or tmp == '' or tmp == 'bib'):\n",
    "                    continue\n",
    "                temp.append(tmp)\n",
    "            if (len(temp) != 0):\n",
    "                aut.append(temp)\n",
    "            temp = []\n",
    "\n",
    "    #     print(len(aut))\n",
    "\n",
    "    inputString = ''\n",
    "\n",
    "    for i in range(len(aut)):\n",
    "        inputString = ','.join(aut[i])\n",
    "        thesis_s.cell(i + 7320, 6, inputString)\n",
    "        inputString = ''\n",
    "    thesis_dataset.save('C:/Users/a0102/Desktop/thesis_dataset.xlsx')\n",
    "\n",
    "    print(\"author length : \", len(aut))"
   ]
  },
  {
   "cell_type": "code",
   "execution_count": null,
   "metadata": {},
   "outputs": [],
   "source": [
    "def crawler(url):\n",
    "    response = requests.get(url)\n",
    "    soup = BeautifulSoup(response.content, \"html.parser\")\n",
    "\n",
    "    my_titles = soup.select(\n",
    "        'p>span:nth-child(2)>strong>a'\n",
    "    )\n",
    "\n",
    "    tit = []\n",
    "    for title in my_titles:\n",
    "        tit.append(title.text)\n",
    "    # print('tit',tit)\n",
    "\n",
    "    abs = []\n",
    "    abstracts = soup.findAll(\"div\", {'class': 'card-body p-3 small'})\n",
    "    for abstract in abstracts:\n",
    "        abs.append(abstract.text)\n",
    "    # print('abs',abs)\n",
    "\n",
    "\n",
    "    print(\"title length : \", len(tit))\n",
    "    # print(\"author length : \", len(aut))\n",
    "    print(\"abstraction length : \", len(abs))\n",
    "\n",
    "    s = []\n",
    "    num = len(tit) - len(abs)\n",
    "    ii = 0\n",
    "\n",
    "    while True:\n",
    "        try:\n",
    "            s.append(soup.select('.card-body .list-pl-responsive li .align-middle')[ii].get_text())\n",
    "            ii += 1\n",
    "        except:\n",
    "            break\n",
    "\n",
    "    num = len(s)\n",
    "\n",
    "    new_s = []\n",
    "    for i in range(num):\n",
    "        if i % 2 == 0:\n",
    "            new_s.append(s[i])\n",
    "\n",
    "    # for i in range(num):\n",
    "    #    s.append(soup.select('.card-body .align-middle')[2*i].get_text())\n",
    "\n",
    "    for t in tit:\n",
    "        if t == 'Proceedings of the 18th BioNLP Workshop and Shared Task':\n",
    "            tit.remove(t)\n",
    "    # acl-2019가 위 항목을 아래의 for문 속 if t==ss에서 못 걸러내므로 따로 remove 해줌\n",
    "\n",
    "    for t in tit:\n",
    "        for ss in new_s:\n",
    "            if t == ss:\n",
    "                tit.remove(t)\n",
    "\n",
    "    for i in range(len(abs)):\n",
    "        thesis_s.cell(i + 7320, 3, 'eacl')\n",
    "        # 7319부터 시작\n",
    "    thesis_dataset.save('C:/Users/a0102/Desktop/thesis_dataset.xlsx')\n",
    "\n",
    "    for i in range(len(abs)):\n",
    "        thesis_s.cell(i + 7320, 4, 2017)\n",
    "    thesis_dataset.save('C:/Users/a0102/Desktop/thesis_dataset.xlsx')\n",
    "\n",
    "    for i in range(len(abs)):\n",
    "        thesis_s.cell(i + 7320, 5, tit[i])\n",
    "    thesis_dataset.save('C:/Users/a0102/Desktop/thesis_dataset.xlsx')\n",
    "\n",
    "    for i in range(len(abs)):\n",
    "        thesis_s.cell(i + 7320, 7, abs[i])\n",
    "    thesis_dataset.save('C:/Users/a0102/Desktop/thesis_dataset.xlsx')\n",
    "\n",
    "    add_aut(url)\n",
    "\n",
    "    print(\"title length : \", len(tit))\n",
    "    # print(\"author length : \", len(aut))\n",
    "    print(\"abstraction length : \", len(abs))\n"
   ]
  },
  {
   "cell_type": "markdown",
   "metadata": {},
   "source": [
    "acl 2020,2018,2019"
   ]
  },
  {
   "cell_type": "code",
   "execution_count": null,
   "metadata": {},
   "outputs": [],
   "source": [
    "crawler(\"https://www.aclweb.org/anthology/events/acl-2020/\")"
   ]
  },
  {
   "cell_type": "code",
   "execution_count": null,
   "metadata": {},
   "outputs": [],
   "source": [
    "crawler(\"https://www.aclweb.org/anthology/events/acl-2019/\")"
   ]
  },
  {
   "cell_type": "code",
   "execution_count": null,
   "metadata": {},
   "outputs": [],
   "source": [
    "crawler(\"https://www.aclweb.org/anthology/events/acl-2018/\")"
   ]
  },
  {
   "cell_type": "markdown",
   "metadata": {},
   "source": [
    "emnlp 19,18,17"
   ]
  },
  {
   "cell_type": "code",
   "execution_count": null,
   "metadata": {},
   "outputs": [],
   "source": [
    "crawler(\"https://www.aclweb.org/anthology/events/emnlp-2019/\")"
   ]
  },
  {
   "cell_type": "code",
   "execution_count": null,
   "metadata": {},
   "outputs": [],
   "source": [
    "crawler(\"https://www.aclweb.org/anthology/events/emnlp-2018/\")"
   ]
  },
  {
   "cell_type": "code",
   "execution_count": null,
   "metadata": {},
   "outputs": [],
   "source": [
    "crawler(\"https://www.aclweb.org/anthology/events/emnlp-2017/\")"
   ]
  },
  {
   "cell_type": "markdown",
   "metadata": {},
   "source": [
    "conll 19,18,17"
   ]
  },
  {
   "cell_type": "code",
   "execution_count": null,
   "metadata": {},
   "outputs": [],
   "source": [
    "crawler(\"https://www.aclweb.org/anthology/events/conll-2019/\")"
   ]
  },
  {
   "cell_type": "code",
   "execution_count": null,
   "metadata": {},
   "outputs": [],
   "source": [
    "crawler(\"https://www.aclweb.org/anthology/events/conll-2018/\") #마지막 덩어리 abs없음"
   ]
  },
  {
   "cell_type": "code",
   "execution_count": null,
   "metadata": {},
   "outputs": [],
   "source": [
    "crawler(\"https://www.aclweb.org/anthology/events/conll-2017/\") #중간 덩어리 abs 없음"
   ]
  },
  {
   "cell_type": "markdown",
   "metadata": {},
   "source": [
    "naacl 19,18,16"
   ]
  },
  {
   "cell_type": "code",
   "execution_count": null,
   "metadata": {},
   "outputs": [],
   "source": [
    "crawler(\"https://www.aclweb.org/anthology/events/naacl-2019/\")"
   ]
  },
  {
   "cell_type": "code",
   "execution_count": null,
   "metadata": {},
   "outputs": [],
   "source": [
    "crawler(\"https://www.aclweb.org/anthology/events/naacl-2018/\")"
   ]
  },
  {
   "cell_type": "code",
   "execution_count": null,
   "metadata": {},
   "outputs": [],
   "source": [
    "crawler(\"https://www.aclweb.org/anthology/events/naacl-2016/\") #abs 없음"
   ]
  },
  {
   "cell_type": "markdown",
   "metadata": {},
   "source": [
    "eacl 17,14,12"
   ]
  },
  {
   "cell_type": "code",
   "execution_count": null,
   "metadata": {},
   "outputs": [],
   "source": [
    "crawler(\"https://www.aclweb.org/anthology/events/eacl-2017/\")"
   ]
  },
  {
   "cell_type": "code",
   "execution_count": null,
   "metadata": {},
   "outputs": [],
   "source": [
    "crawler(\"https://www.aclweb.org/anthology/events/eacl-2014/\") #abs 없음"
   ]
  },
  {
   "cell_type": "code",
   "execution_count": null,
   "metadata": {},
   "outputs": [],
   "source": [
    "crawler(\"https://www.aclweb.org/anthology/events/eacl-2012/\") #abs 없음"
   ]
  },
  {
   "cell_type": "markdown",
   "metadata": {},
   "source": [
    "acl-2019------------------- title length : 1449 -> 1423 (-26) author length : 0 abstraction length : 1422 -> 문자열 직접 적어서 지움\n",
    "\n",
    "conll-2018/------------------- title length : 98 author length : 0 abstraction length : 82\n",
    "\n",
    "conll-2017/------------------- title length : 86 author length : 0 abstraction length : 74\n",
    "\n",
    "naacl-2016/------------------- abstraction length : 0\n",
    "\n",
    "eacl-2014/--------------------- abstraction length : 0\n",
    "\n",
    "eacl-2012/------------------- abstraction length : 0"
   ]
  }
 ],
 "metadata": {
  "kernelspec": {
   "display_name": "Python 3",
   "language": "python",
   "name": "python3"
  },
  "language_info": {
   "codemirror_mode": {
    "name": "ipython",
    "version": 3
   },
   "file_extension": ".py",
   "mimetype": "text/x-python",
   "name": "python",
   "nbconvert_exporter": "python",
   "pygments_lexer": "ipython3",
   "version": "3.7.7"
  }
 },
 "nbformat": 4,
 "nbformat_minor": 4
}
